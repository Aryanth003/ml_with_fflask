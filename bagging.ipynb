{
  "nbformat": 4,
  "nbformat_minor": 0,
  "metadata": {
    "colab": {
      "provenance": [],
      "authorship_tag": "ABX9TyNHCIUYkYvWSEYpnnhzztkz"
    },
    "kernelspec": {
      "name": "python3",
      "display_name": "Python 3"
    },
    "language_info": {
      "name": "python"
    }
  },
  "cells": [
    {
      "cell_type": "code",
      "execution_count": 8,
      "metadata": {
        "id": "FVfdvzVSlDab"
      },
      "outputs": [],
      "source": [
        "import pandas as pd\n",
        "from  sklearn.model_selection import KFold\n",
        "from  sklearn.model_selection import cross_val_score\n",
        "from sklearn.ensemble import BaggingClassifier\n",
        "from sklearn.tree import DecisionTreeClassifier\n",
        "from sklearn.ensemble import RandomForestClassifier\n",
        "# from sklearn.ensemble import ExtraTreesClassifier\n",
        "# from sklearn.ensemble import AdaBoostClassifier\n",
        "# from sklearn.ensemble import GradientBoostingClassifier\n",
        "# from sklearn.svm import SVC\n",
        "\n"
      ]
    },
    {
      "cell_type": "code",
      "source": [
        "df=pd.read_csv(\"/content/pima-indians-diabetes.data.csv\")\n",
        "array=df.values"
      ],
      "metadata": {
        "id": "CGJJd4r8nT-9"
      },
      "execution_count": 6,
      "outputs": []
    },
    {
      "cell_type": "code",
      "source": [
        "x=array[:,0:8]\n",
        "y=array[:,8]\n",
        "num_tree=100\n",
        "max_features=3\n"
      ],
      "metadata": {
        "id": "V2cmHILaoqr5"
      },
      "execution_count": 11,
      "outputs": []
    },
    {
      "cell_type": "code",
      "source": [
        "kfold=KFold(n_splits=10,shuffle=True,random_state=7)\n",
        "model=RandomForestClassifier(n_estimators=num_tree,max_features=max_features)\n",
        "results=cross_val_score(model,x,y,cv=kfold)\n",
        "print(results.mean())"
      ],
      "metadata": {
        "colab": {
          "base_uri": "https://localhost:8080/"
        },
        "id": "g0aVAKoBpTfz",
        "outputId": "e6fe0f11-bf32-432c-a4c8-688abfa680cf"
      },
      "execution_count": 13,
      "outputs": [
        {
          "output_type": "stream",
          "name": "stdout",
          "text": [
            "0.7523752563226247\n"
          ]
        }
      ]
    },
    {
      "cell_type": "code",
      "source": [],
      "metadata": {
        "id": "gVAzbGGEpWH1"
      },
      "execution_count": null,
      "outputs": []
    }
  ]
}