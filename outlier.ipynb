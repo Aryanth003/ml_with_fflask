{
  "nbformat": 4,
  "nbformat_minor": 0,
  "metadata": {
    "colab": {
      "provenance": [],
      "authorship_tag": "ABX9TyMSnQiwUSrXAkpm8klzckOI",
      "include_colab_link": true
    },
    "kernelspec": {
      "name": "python3",
      "display_name": "Python 3"
    },
    "language_info": {
      "name": "python"
    }
  },
  "cells": [
    {
      "cell_type": "markdown",
      "metadata": {
        "id": "view-in-github",
        "colab_type": "text"
      },
      "source": [
        "<a href=\"https://colab.research.google.com/github/Aryanth003/ml_with_fflask/blob/main/outlier.ipynb\" target=\"_parent\"><img src=\"https://colab.research.google.com/assets/colab-badge.svg\" alt=\"Open In Colab\"/></a>"
      ]
    },
    {
      "cell_type": "code",
      "execution_count": 16,
      "metadata": {
        "id": "I9n3K7I_QGU_"
      },
      "outputs": [],
      "source": [
        "import pandas as pd\n",
        "import numpy as np\n",
        "import matplotlib.pyplot as plt"
      ]
    },
    {
      "cell_type": "code",
      "source": [
        "a=[12,21,14,15,11,13,15,17,45]\n",
        "a"
      ],
      "metadata": {
        "id": "TVG47Am_S__R",
        "colab": {
          "base_uri": "https://localhost:8080/"
        },
        "outputId": "c74b69d8-5b2d-4985-eb39-f155257e331f"
      },
      "execution_count": 12,
      "outputs": [
        {
          "output_type": "execute_result",
          "data": {
            "text/plain": [
              "[12, 21, 14, 15, 11, 13, 15, 17, 45]"
            ]
          },
          "metadata": {},
          "execution_count": 12
        }
      ]
    },
    {
      "cell_type": "code",
      "source": [
        "q1=np.percentile(a,25)\n",
        "q2=np.percentile(a,75)\n",
        "iqr=q2-q1\n",
        "l=q1-1.5*iqr\n",
        "u=q2+1.5*iqr\n",
        "outliers=[x for x in a if x < l or x > u ]\n",
        "print(f\"q1: {q1}\")\n",
        "print(f\"q2: {q2}\")\n",
        "print(f\"iqr: {iqr}\")\n",
        "print(f\"lower bound: {l}\")\n",
        "print(f\"upper bound: {u}\")\n",
        "print(f\"outliers: {outliers}\")"
      ],
      "metadata": {
        "id": "HZ_Osw29a82N",
        "colab": {
          "base_uri": "https://localhost:8080/"
        },
        "outputId": "73a00e7a-e08f-4add-811d-cf4069668ce0"
      },
      "execution_count": 13,
      "outputs": [
        {
          "output_type": "stream",
          "name": "stdout",
          "text": [
            "q1: 13.0\n",
            "q2: 17.0\n",
            "iqr: 4.0\n",
            "lower bound: 7.0\n",
            "upper bound: 23.0\n",
            "outliers: [45]\n"
          ]
        }
      ]
    },
    {
      "cell_type": "code",
      "source": [
        "np.random.seed(10)\n",
        "data=pd.DataFrame({\n",
        "    'value':np.concatenate([np.random.normal(0,1,100),(np.random.normal(10,1,10))])\n",
        "})\n",
        "plt.boxplot(x=a)\n",
        "plt.show()"
      ],
      "metadata": {
        "colab": {
          "base_uri": "https://localhost:8080/",
          "height": 430
        },
        "id": "nWlyzyIZHr3H",
        "outputId": "31524e0e-9c76-4d7b-b8b0-254698b399b5"
      },
      "execution_count": 27,
      "outputs": [
        {
          "output_type": "display_data",
          "data": {
            "text/plain": [
              "<Figure size 640x480 with 1 Axes>"
            ],
            "image/png": "[encoded data removed]"
          },
          "metadata": {}
        }
      ]
    },
    {
      "cell_type": "code",
      "source": [],
      "metadata": {
        "id": "-Wzz1i92JuF_"
      },
      "execution_count": null,
      "outputs": []
    }
  ]
}