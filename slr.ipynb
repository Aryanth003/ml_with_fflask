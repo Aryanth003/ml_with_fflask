{
  "nbformat": 4,
  "nbformat_minor": 0,
  "metadata": {
    "colab": {
      "provenance": [],
      "authorship_tag": "ABX9TyOadkCqubNpLrhD+mXCWYn7",
      "include_colab_link": true
    },
    "kernelspec": {
      "name": "python3",
      "display_name": "Python 3"
    },
    "language_info": {
      "name": "python"
    }
  },
  "cells": [
    {
      "cell_type": "markdown",
      "metadata": {
        "id": "view-in-github",
        "colab_type": "text"
      },
      "source": [
        "<a href=\"https://colab.research.google.com/github/Aryanth003/ml_with_fflask/blob/main/slr.ipynb\" target=\"_parent\"><img src=\"https://colab.research.google.com/assets/colab-badge.svg\" alt=\"Open In Colab\"/></a>"
      ]
    },
    {
      "cell_type": "code",
      "execution_count": null,
      "metadata": {
        "id": "I9n3K7I_QGU_"
      },
      "outputs": [],
      "source": [
        "import pandas as pd\n",
        "import numpy as np\n",
        "import matplotlib.pyplot as plt"
      ]
    },
    {
      "cell_type": "markdown",
      "source": [
        "<h3>Find Cab prediction price(y) by considering x(value)no of kms Travled and rate per km is Fixed price as that is fare is c value is 5</h3>"
      ],
      "metadata": {
        "id": "K14UbnXMh8Rp"
      }
    },
    {
      "cell_type": "code",
      "source": [
        "m,c=2,5\n",
        "def lin(x):\n",
        "  return m(x)+c\n"
      ],
      "metadata": {
        "id": "HwVUBas6g5vI"
      },
      "execution_count": null,
      "outputs": []
    }
  ]
}